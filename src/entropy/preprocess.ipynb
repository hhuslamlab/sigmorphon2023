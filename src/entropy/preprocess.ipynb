{
 "cells": [
  {
   "cell_type": "code",
   "execution_count": null,
   "metadata": {},
   "outputs": [],
   "source": [
    "# Merge the two experimental datasets, excluding train \n",
    "import pandas as pd\n",
    "df = pd.read_csv('dev.csv')\n",
    "df2 = pd.read_csv('train.csv')\n",
    "joined = pd.concat([df, df2], axis=0)\n",
    "joined.to_csv('merged_devtrain.csv', index= False)"
   ]
  },
  {
   "cell_type": "code",
   "execution_count": 22,
   "metadata": {},
   "outputs": [],
   "source": [
    "# Make the feature dictionary \n",
    "import json\n",
    "import pandas as pd\n",
    "\n",
    "subset = pd.read_csv('~/Downloads/sigmorphon/merged_devtrain.csv')\n",
    "feats = {}\n",
    "\n",
    "for line in zip(subset['Tensification'], subset['Nasalization'], subset['L_deletion'], subset['C_deletion'], subset['Lateralization']):\n",
    "    if str(line) not in feats.keys():\n",
    "        feats[str(line)] = 0\n",
    "feats.pop('(1.0, nan, 1.0, 1.0, nan)')\n",
    "# '(1.0, nan, 1.0, 1.0, nan)': 1 only has one attestation,its therefore excluded"
   ]
  }
 ],
 "metadata": {
  "kernelspec": {
   "display_name": "sigmorphonV",
   "language": "python",
   "name": "python3"
  },
  "language_info": {
   "codemirror_mode": {
    "name": "ipython",
    "version": 3
   },
   "file_extension": ".py",
   "mimetype": "text/x-python",
   "name": "python",
   "nbconvert_exporter": "python",
   "pygments_lexer": "ipython3",
   "version": "3.11.2"
  },
  "orig_nbformat": 4
 },
 "nbformat": 4,
 "nbformat_minor": 2
}
