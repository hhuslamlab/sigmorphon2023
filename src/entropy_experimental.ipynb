{
 "cells": [
  {
   "attachments": {},
   "cell_type": "markdown",
   "metadata": {},
   "source": [
    "## Experimental data\n",
    "By item:\n",
    "- every item has an entropy score calculated using all participants responses over that item\n",
    "\n",
    "By participant \n",
    "- every participant has a score using all responses across items by this pariticpant"
   ]
  },
  {
   "cell_type": "code",
   "execution_count": 47,
   "metadata": {},
   "outputs": [],
   "source": [
    "import pandas as pd\n",
    "import scipy.stats\n",
    "\n",
    "def ent(data):\n",
    "    \"\"\"Calculates entropy of the passed `pd.Series`\n",
    "    from https://stackoverflow.com/questions/15450192/fastest-way-to-compute-entropy-in-python\n",
    "    \"\"\"\n",
    "    p_data = data.value_counts()           # counts occurrence of each value\n",
    "    entropy = scipy.stats.entropy(p_data)  # get entropy from counts\n",
    "    return entropy\n",
    "\n",
    "\n",
    "def by_participants(df):\n",
    "    '''Returns by participant entropy for the passed dataframe\n",
    "    '''\n",
    "    part_entropies = {}\n",
    "    subj = set(df['Exp_Subject_Id'])\n",
    "    for subject in subj:\n",
    "        s = df[df['Exp_Subject_Id'] == subject]['Production_R'] # creates a subset of the dataframe for the current participant, then accesses only the productionR column of that df\n",
    "        entropy = ent(s)\n",
    "        part_entropies[subject] = entropy\n",
    "    return part_entropies\n",
    "\n",
    "def by_items(df):\n",
    "    '''Returns by item entropy for the passed dataframe\n",
    "    '''\n",
    "    item_entropies = {}\n",
    "    items = set(df['Word_romanization'])\n",
    "    for item in items:\n",
    "        s = df[df['Word_romanization'] == item]['Production_R'] # creates a subset of the dataframe for the current item, then accesses only the productionR column of that df\n",
    "        entropy = ent(s)\n",
    "        item_entropies[item] = entropy\n",
    "    return item_entropies"
   ]
  },
  {
   "cell_type": "code",
   "execution_count": 48,
   "metadata": {},
   "outputs": [
    {
     "name": "stdout",
     "output_type": "stream",
     "text": [
      "{575760: 5.0930903208996305, 578698: 5.164151822134836, 592117: 5.123642132834217, 592166: 5.103284836410856} {581952: 5.1272663563154595, 556033: 5.133099245669346, 589028: 5.100537226815552, 578085: 5.129156703383325, 597515: 5.131343768173773, 563118: 5.139045403513327, 556014: 5.139045403513327, 556505: 5.069725789161007, 594939: 5.162150309531992, 585660: 5.171896483370142, 559838: 5.125428515958302, 565631: 5.100537226815552} {575760: 5.0930903208996305, 578698: 5.164151822134836, 592117: 5.123642132834217, 592166: 5.103284836410856}\n",
      "{'yvTv': 0.0, 'nvlpv': 0.0, 'p*opna': 0.5623351446188083, 'yaTna': 0.6931471805599453, 'cvkna': 0.6931471805599453, 'kxlkna': 1.0397207708399179, 'nxlkna': 1.0397207708399179, 'cipv': 0.0, 'Cakna': 0.6931471805599453, 'pulkna': 0.5623351446188083, 'ipta': 0.6931471805599453, 'cvkv': 0.0, 'cvpta': 0.0, 'cilkna': 1.3862943611198906, 'Caka': 0.0, 'pulkta': 1.0397207708399179, 'cvpna': 0.5623351446188083, 'ipna': 0.6931471805599453, 'cipna': 0.5623351446188083, 'makna': 0.6931471805599453, 'neTv': 0.0, 'mukv': 0.0, 'paka': 0.0, 'pulTna': 0.5623351446188083, 'upna': 0.5623351446188083, 's*vkna': 0.5623351446188083, 'nalkna': 0.5623351446188083, 'Jikna': 0.6931471805599453, 'palpta': 1.0397207708399179, 'xlPta': 1.0986122886681096, 'halTta': 0.0, 'malkna': 1.0397207708399179, 'Jikta': 0.5623351446188083, 'cikna': 0.6931471805599453, 'tokna': 0.6931471805599453, 's*ipv': 0.0, 'vPna': 0.6931471805599453, 'ikv': 0.0, 'nvlpta': 0.5623351446188083, 'peTv': 0.0, 'yvTta': 0.6365141682948128, 'kxlkta': 1.0397207708399179, 'nvlpna': 0.6931471805599453, 'pulkv': 0.0, 'sokta': 0.5623351446188083, 'soka': 0.0, 'cakta': 0.5623351446188083, 'dvlpta': 1.0397207708399179, 'malkta': 0.5623351446188083, 'yaTa': 0.0, 'Jalpta': 1.0397207708399179, 'kvpv': 0.0, 'kxlPv': 0.0, 'ikna': 0.6931471805599453, 'yvTna': 0.6931471805599453, 'alkna': 0.5623351446188083, 'kvpna': 0.5623351446188083, 'nalkta': 0.5623351446188083, 'Cakta': 0.5623351446188083, 'txlkv': 0.0, 'ikta': 0.5623351446188083, 'tvlpv': 0.0, 'palpa': 0.0, 'sokna': 0.5623351446188083, 'tupv': 0.0, 'vPta': 0.5623351446188083, 'kxlPna': 0.5623351446188083, 'nxlkv': 0.0, 'tokta': 0.5623351446188083, 'palpna': 1.0397207708399179, 'ilkta': 1.0397207708399179, 'dvlpna': 0.5623351446188083, 'vlkv': 0.0, 'nalka': 0.0, 'kjvlpna': 1.0397207708399179, 'mulkta': 1.0397207708399179, 'kulkna': 1.0397207708399179, 'pakna': 0.6931471805599453, 'neTta': 0.6931471805599453, 's*ipna': 0.5623351446188083, 'upta': 0.6931471805599453, 'mulkv': 0.0, 's*vkta': 0.5623351446188083, 'ilkv': 0.0, 'hulTv': 0.0, 'tupna': 0.6931471805599453, 'sulkna': 1.0397207708399179, 'vpv': 0.0, 'ilkna': 1.0397207708399179, 'ipv': 0.0, 'Jalpa': 0.0, 'mukna': 0.6931471805599453, 'yalpna': 1.0397207708399179, 'malka': 0.0, 'xlPna': 1.0397207708399179, 'mvlkv': 0.0, 'palkta': 1.0397207708399179, 'Topna': 0.6931471805599453, 'sikna': 0.6931471805599453, 'txlkna': 0.6931471805599453, 'kvpta': 0.6931471805599453, 'p*opta': 0.5623351446188083, 'yvlpna': 1.0397207708399179, 'mulkna': 1.0397207708399179, 'nalpta': 0.6931471805599453, 'yaTta': 0.0, 'cikv': 0.0, 'cikta': 0.5623351446188083, 'yvlpta': 1.0397207708399179, 'kxlPta': 0.5623351446188083, 'pakta': 0.5623351446188083, 'alkta': 0.6931471805599453, 'upv': 0.0, 'pulTta': 0.0, 'Topta': 0.5623351446188083, 'mukta': 0.5623351446188083, 'alka': 0.0, 'cilkta': 0.5623351446188083, 'cilkv': 0.6365141682948128, 'halTa': 0.0, 'kvPv': 0.0, 'cakna': 0.6931471805599453, 'makta': 0.6931471805599453, 'cvkta': 0.5623351446188083, 'kalkta': 0.5623351446188083, 'palka': 0.0, 's*vkv': 0.0, 'cipta': 0.5623351446188083, 'tupta': 0.5623351446188083, 'hulTna': 0.0, 'pulTv': 0.6365141682948128, 'kvPna': 0.6931471805599453, 'dvlpv': 0.0, 'peTna': 0.0, 'yalpa': 0.0, 'yvlpv': 0.6365141682948128, 'vpta': 0.5623351446188083, 'sulkv': 0.0, 's*ipta': 0.5623351446188083, 'kalka': 0.0, 'sikta': 0.5623351446188083, 'kjvlpta': 0.5623351446188083, 'Jikv': 0.0, 'mvlkta': 0.0, 'hulTta': 0.5623351446188083, 'vpna': 0.5623351446188083, 'xlPv': 0.0, 'kxlkv': 0.0, 'tvlpna': 1.0397207708399179, 'sulkta': 0.5623351446188083, 'caka': 0.0, 'nukna': 0.6931471805599453, 'nalpa': 0.0, 'maka': 0.0, 'toka': 0.0, 'tvlpta': 1.0397207708399179, 'vlkna': 0.0, 'kulkta': 0.5623351446188083, 'mvlkna': 1.0397207708399179, 'p*opa': 0.0, 'peTta': 0.5623351446188083, 'vlkta': 1.0986122886681096, 'nalpna': 1.0397207708399179, 'halTna': 0.6365141682948128, 'nxlkta': 0.5623351446188083, 'kulkv': 0.0, 'cvpv': 0.0, 'nukv': 0.0, 'kjvlpv': 0.0, 'palkna': 0.6931471805599453, 'neTna': 0.6931471805599453, 'sikv': 0.0, 'Jalpna': 1.0397207708399179, 'kvPta': 0.5623351446188083, 'yalpta': 1.0397207708399179, 'vPv': 0.0, 'Topa': 0.0, 'kalkna': 1.3862943611198906, 'txlkta': 0.5623351446188083, 'nukta': 0.6931471805599453} {'yvTv': 0.0, 'nvlpv': 0.0, 'p*opna': 0.45056120886630463, 'yaTna': 0.2868359830561607, 'cvkna': 0.5623351446188083, 'kxlkna': 1.1187433359857524, 'nxlkna': 0.8675632284814612, 'cipv': 0.0, 'Cakna': 0.45056120886630463, 'pulkna': 1.077556327066801, 'ipta': 0.45056120886630463, 'cvkv': 0.0, 'cvpta': 0.2868359830561607, 'cilkna': 0.9596147939120492, 'Caka': 0.0, 'pulkta': 1.286057336874379, 'cvpna': 0.5623351446188083, 'ipna': 0.5623351446188083, 'cipna': 0.45056120886630463, 'makna': 0.0, 'neTv': 0.0, 'mukv': 0.0, 'paka': 0.0, 'pulTna': 1.4735023850806486, 'upna': 0.45056120886630463, 's*vkna': 0.45056120886630463, 'nalkna': 1.0114042647073516, 'Jikna': 0.2868359830561607, 'palpta': 1.329661348854758, 'xlPta': 0.9347698978582794, 'halTta': 0.0, 'malkna': 1.1187433359857524, 'Jikta': 0.2868359830561607, 'cikna': 0.2868359830561607, 'tokna': 0.2868359830561607, 's*ipv': 0.0, 'vPna': 0.45056120886630463, 'ikv': 0.0, 'nvlpta': 1.1269287948006759, 'peTv': 0.0, 'yvTta': 0.0, 'kxlkta': 1.1269287948006759, 'nvlpna': 1.5454229031935935, 'pulkv': 0.0, 'sokta': 0.2868359830561607, 'soka': 0.0, 'cakta': 0.47413931305783735, 'dvlpta': 1.286057336874379, 'malkta': 1.236684869140504, 'yaTa': 0.0, 'Jalpta': 1.14370838942625, 'kvpv': 0.0, 'kxlPv': 0.2868359830561607, 'ikna': 0.0, 'yvTna': 0.2868359830561607, 'alkna': 1.077556327066801, 'kvpna': 0.2868359830561607, 'nalkta': 1.236684869140504, 'Cakta': 0.2868359830561607, 'txlkv': 0.0, 'ikta': 0.45056120886630463, 'tvlpv': 0.2868359830561607, 'palpa': 0.0, 'sokna': 0.6365141682948128, 'tupv': 0.0, 'vPta': 0.45056120886630463, 'kxlPna': 1.0670895187820832, 'nxlkv': 0.0, 'tokta': 0.45056120886630463, 'palpna': 1.4735023850806486, 'ilkta': 1.0751393240053735, 'dvlpna': 1.2650013752730702, 'vlkv': 0.0, 'nalka': 0.0, 'kjvlpna': 1.2650013752730702, 'mulkta': 1.1269287948006759, 'kulkna': 1.0397207708399179, 'pakna': 0.2868359830561607, 'neTta': 0.34883209584303193, 's*ipna': 0.5623351446188083, 'upta': 0.2868359830561607, 'mulkv': 0.0, 's*vkta': 0.5623351446188083, 'ilkv': 0.0, 'hulTv': 0.2868359830561607, 'tupna': 0.2868359830561607, 'sulkna': 1.2650013752730702, 'vpv': 0.0, 'ilkna': 0.5660857389596289, 'ipv': 0.0, 'Jalpa': 0.0, 'mukna': 0.2868359830561607, 'yalpna': 1.308605387253449, 'malka': 0.0, 'xlPna': 1.2650013752730702, 'mvlkv': 0.0, 'palkta': 1.1988493129136213, 'Topna': 0.45056120886630463, 'sikna': 0.45056120886630463, 'txlkna': 1.1187433359857524, 'kvpta': 0.2868359830561607, 'p*opta': 0.45056120886630463, 'yvlpna': 1.308605387253449, 'mulkna': 0.6365141682948128, 'nalpta': 1.1187433359857524, 'yaTta': 0.3250829733914482, 'cikv': 0.0, 'cikta': 0.2868359830561607, 'yvlpta': 1.0281838593329258, 'kxlPta': 1.1209503926735833, 'pakta': 0.45056120886630463, 'alkta': 0.7595473914748635, 'upv': 0.0, 'pulTta': 1.1187433359857524, 'Topta': 0.2868359830561607, 'mukta': 0.45056120886630463, 'alka': 0.2868359830561607, 'cilkta': 1.236684869140504, 'cilkv': 0.2868359830561607, 'halTa': 0.0, 'kvPv': 0.0, 'cakna': 0.5859526183035508, 'makta': 0.2868359830561607, 'cvkta': 0.45056120886630463, 'kalkta': 1.1988493129136213, 'palka': 0.0, 's*vkv': 0.0, 'pulTv': 0.7214636866925115, 'tupta': 0.2868359830561607, 'cipta': 0.2868359830561607, 'hulTna': 0.8369882167858358, 'kvPna': 0.2868359830561607, 'dvlpv': 0.0, 'peTna': 0.5623351446188083, 'yalpa': 0.0, 'yvlpv': 0.0, 'vpta': 0.2868359830561607, 'sulkv': 0.30463609734923813, 's*ipta': 0.2868359830561607, 'kalka': 0.0, 'sikta': 0.0, 'kjvlpta': 0.9596147939120492, 'Jikv': 0.0, 'mvlkta': 1.236684869140504, 'hulTta': 0.8018185525433372, 'vpna': 0.5623351446188083, 'xlPv': 0.0, 'kxlkv': 0.0, 'tvlpna': 1.5171063970610272, 'sulkta': 1.2650013752730702, 'caka': 0.0, 'nukna': 0.5623351446188083, 'nalpa': 0.0, 'maka': 0.0, 'toka': 0.0, 'tvlpta': 0.6791932659915256, 'vlkna': 0.9596147939120492, 'kulkta': 1.2650013752730702, 'mvlkna': 0.6791932659915256, 'p*opa': 0.0, 'peTta': 0.30463609734923813, 'vlkta': 1.1988493129136213, 'nalpna': 1.236684869140504, 'halTna': 0.8369882167858358, 'nxlkta': 1.236684869140504, 'kulkv': 0.0, 'cvpv': 0.0, 'nukv': 0.0, 'kjvlpv': 0.2868359830561607, 'palkna': 1.1269287948006759, 'neTna': 0.30463609734923813, 'sikv': 0.0, 'Jalpna': 1.236684869140504, 'kvPta': 0.0, 'yalpta': 1.1269287948006759, 'vPv': 0.0, 'Topa': 0.0, 'kalkna': 1.1988493129136213, 'txlkta': 1.3143738430069454, 'nukta': 0.45056120886630463} {'yvTv': 0.0, 'nvlpv': 0.0, 'p*opna': 0.5623351446188083, 'yaTna': 0.6931471805599453, 'cvkna': 0.6931471805599453, 'kxlkna': 1.0397207708399179, 'nxlkna': 1.0397207708399179, 'cipv': 0.0, 'Cakna': 0.6931471805599453, 'pulkna': 0.5623351446188083, 'ipta': 0.6931471805599453, 'cvkv': 0.0, 'cvpta': 0.0, 'cilkna': 1.3862943611198906, 'Caka': 0.0, 'pulkta': 1.0397207708399179, 'cvpna': 0.5623351446188083, 'ipna': 0.6931471805599453, 'cipna': 0.5623351446188083, 'makna': 0.6931471805599453, 'neTv': 0.0, 'mukv': 0.0, 'paka': 0.0, 'pulTna': 0.5623351446188083, 'upna': 0.5623351446188083, 's*vkna': 0.5623351446188083, 'nalkna': 0.5623351446188083, 'Jikna': 0.6931471805599453, 'palpta': 1.0397207708399179, 'xlPta': 1.0986122886681096, 'halTta': 0.0, 'malkna': 1.0397207708399179, 'Jikta': 0.5623351446188083, 'cikna': 0.6931471805599453, 'tokna': 0.6931471805599453, 's*ipv': 0.0, 'vPna': 0.6931471805599453, 'ikv': 0.0, 'nvlpta': 0.5623351446188083, 'peTv': 0.0, 'yvTta': 0.6365141682948128, 'kxlkta': 1.0397207708399179, 'nvlpna': 0.6931471805599453, 'pulkv': 0.0, 'sokta': 0.5623351446188083, 'soka': 0.0, 'cakta': 0.5623351446188083, 'dvlpta': 1.0397207708399179, 'malkta': 0.5623351446188083, 'yaTa': 0.0, 'Jalpta': 1.0397207708399179, 'kvpv': 0.0, 'kxlPv': 0.0, 'ikna': 0.6931471805599453, 'yvTna': 0.6931471805599453, 'alkna': 0.5623351446188083, 'kvpna': 0.5623351446188083, 'nalkta': 0.5623351446188083, 'Cakta': 0.5623351446188083, 'txlkv': 0.0, 'ikta': 0.5623351446188083, 'tvlpv': 0.0, 'palpa': 0.0, 'sokna': 0.5623351446188083, 'tupv': 0.0, 'vPta': 0.5623351446188083, 'kxlPna': 0.5623351446188083, 'nxlkv': 0.0, 'tokta': 0.5623351446188083, 'palpna': 1.0397207708399179, 'ilkta': 1.0397207708399179, 'dvlpna': 0.5623351446188083, 'vlkv': 0.0, 'nalka': 0.0, 'kjvlpna': 1.0397207708399179, 'mulkta': 1.0397207708399179, 'kulkna': 1.0397207708399179, 'pakna': 0.6931471805599453, 'neTta': 0.6931471805599453, 's*ipna': 0.5623351446188083, 'upta': 0.6931471805599453, 'mulkv': 0.0, 's*vkta': 0.5623351446188083, 'ilkv': 0.0, 'hulTv': 0.0, 'tupna': 0.6931471805599453, 'sulkna': 1.0397207708399179, 'vpv': 0.0, 'ilkna': 1.0397207708399179, 'ipv': 0.0, 'Jalpa': 0.0, 'mukna': 0.6931471805599453, 'yalpna': 1.0397207708399179, 'malka': 0.0, 'xlPna': 1.0397207708399179, 'mvlkv': 0.0, 'palkta': 1.0397207708399179, 'Topna': 0.6931471805599453, 'sikna': 0.6931471805599453, 'txlkna': 0.6931471805599453, 'kvpta': 0.6931471805599453, 'p*opta': 0.5623351446188083, 'yvlpna': 1.0397207708399179, 'mulkna': 1.0397207708399179, 'nalpta': 0.6931471805599453, 'yaTta': 0.0, 'cikv': 0.0, 'cikta': 0.5623351446188083, 'yvlpta': 1.0397207708399179, 'kxlPta': 0.5623351446188083, 'pakta': 0.5623351446188083, 'alkta': 0.6931471805599453, 'upv': 0.0, 'pulTta': 0.0, 'Topta': 0.5623351446188083, 'mukta': 0.5623351446188083, 'alka': 0.0, 'cilkta': 0.5623351446188083, 'cilkv': 0.6365141682948128, 'halTa': 0.0, 'kvPv': 0.0, 'cakna': 0.6931471805599453, 'makta': 0.6931471805599453, 'cvkta': 0.5623351446188083, 'kalkta': 0.5623351446188083, 'palka': 0.0, 's*vkv': 0.0, 'cipta': 0.5623351446188083, 'tupta': 0.5623351446188083, 'hulTna': 0.0, 'pulTv': 0.6365141682948128, 'kvPna': 0.6931471805599453, 'dvlpv': 0.0, 'peTna': 0.0, 'yalpa': 0.0, 'yvlpv': 0.6365141682948128, 'vpta': 0.5623351446188083, 'sulkv': 0.0, 's*ipta': 0.5623351446188083, 'kalka': 0.0, 'sikta': 0.5623351446188083, 'kjvlpta': 0.5623351446188083, 'Jikv': 0.0, 'mvlkta': 0.0, 'hulTta': 0.5623351446188083, 'vpna': 0.5623351446188083, 'xlPv': 0.0, 'kxlkv': 0.0, 'tvlpna': 1.0397207708399179, 'sulkta': 0.5623351446188083, 'caka': 0.0, 'nukna': 0.6931471805599453, 'nalpa': 0.0, 'maka': 0.0, 'toka': 0.0, 'tvlpta': 1.0397207708399179, 'vlkna': 0.0, 'kulkta': 0.5623351446188083, 'mvlkna': 1.0397207708399179, 'p*opa': 0.0, 'peTta': 0.5623351446188083, 'vlkta': 1.0986122886681096, 'nalpna': 1.0397207708399179, 'halTna': 0.6365141682948128, 'nxlkta': 0.5623351446188083, 'kulkv': 0.0, 'cvpv': 0.0, 'nukv': 0.0, 'kjvlpv': 0.0, 'palkna': 0.6931471805599453, 'neTna': 0.6931471805599453, 'sikv': 0.0, 'Jalpna': 1.0397207708399179, 'kvPta': 0.5623351446188083, 'yalpta': 1.0397207708399179, 'vPv': 0.0, 'Topa': 0.0, 'kalkna': 1.3862943611198906, 'txlkta': 0.5623351446188083, 'nukta': 0.6931471805599453}\n"
     ]
    }
   ],
   "source": [
    "dev = pd.read_csv('c:/Users/astei/Downloads/dev.csv')\n",
    "test = pd.read_csv('c:/Users/astei/Downloads/test.csv')\n",
    "train = pd.read_csv('c:/Users/astei/Downloads/train.csv')\n",
    "print(by_participants(dev), by_participants(train), by_participants(dev))\n",
    "print(by_items(dev), by_items(train), by_items(dev))"
   ]
  }
 ],
 "metadata": {
  "kernelspec": {
   "display_name": "Python 3",
   "language": "python",
   "name": "python3"
  },
  "language_info": {
   "codemirror_mode": {
    "name": "ipython",
    "version": 3
   },
   "file_extension": ".py",
   "mimetype": "text/x-python",
   "name": "python",
   "nbconvert_exporter": "python",
   "pygments_lexer": "ipython3",
   "version": "3.11.1"
  },
  "orig_nbformat": 4
 },
 "nbformat": 4,
 "nbformat_minor": 2
}
