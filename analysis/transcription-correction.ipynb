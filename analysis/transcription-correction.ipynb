{
 "cells": [
  {
   "cell_type": "code",
   "execution_count": null,
   "id": "71059158",
   "metadata": {},
   "outputs": [],
   "source": [
    "import re\n",
    "import glob"
   ]
  },
  {
   "cell_type": "code",
   "execution_count": null,
   "id": "5c46f933",
   "metadata": {},
   "outputs": [],
   "source": [
    "!pwd"
   ]
  },
  {
   "cell_type": "code",
   "execution_count": null,
   "id": "5ccd9aa1",
   "metadata": {},
   "outputs": [],
   "source": [
    "input_files = glob.glob(\"input/*.txt\")\n",
    "output_files = glob.glob(\"output/*.txt\")"
   ]
  },
  {
   "cell_type": "code",
   "execution_count": null,
   "id": "b4276f35",
   "metadata": {},
   "outputs": [],
   "source": [
    "print(input_files)"
   ]
  },
  {
   "cell_type": "code",
   "execution_count": null,
   "id": "641375cc",
   "metadata": {},
   "outputs": [],
   "source": [
    "print(output_files)"
   ]
  },
  {
   "cell_type": "code",
   "execution_count": null,
   "id": "f093f4bf",
   "metadata": {},
   "outputs": [],
   "source": [
    "for f in input_files:\n",
    "    f_name = f.split('/')[1]\n",
    "    f = open(f,'r')\n",
    "    w = open(f_name.replace(\"input\",\"corrected_input\"),\"w\")\n",
    "    words = [line.rstrip() for line in f]\n",
    "    f.close()\n",
    "    for word in words:\n",
    "        word = word.replace(\" \", \"\")\n",
    "        word = word.replace(\".\", \"\")\n",
    "        word = word.replace(\"-\", \"\")\n",
    "        tense_mark_corrected = re.sub(\"[*][p|t|k|s|c]\", \"[*][p|t|k|s|c]\", word)\n",
    "        tense_corrected = re.sub(\"S\",\"s*\", tense_mark_corrected)\n",
    "        print(f_name, word, tense_corrected)\n",
    "        w.write(tense_corrected + \"\\n\")"
   ]
  },
  {
   "cell_type": "code",
   "execution_count": null,
   "id": "0f5d6b1a",
   "metadata": {},
   "outputs": [],
   "source": [
    "def coda_correction(word):\n",
    "    if word.startswith(\"P\") or word.startswith(\"T\") or word.startswith(\"K\"):\n",
    "        corrected_coda = word\n",
    "    else:\n",
    "        if \"P\" or \"T\" or \"K\" in word:\n",
    "            corrected_coda = word.replace(\"P\",\"p\")\n",
    "            corrected_coda = word.replace(\"T\", \"t\")\n",
    "            corrected_coda = word.replace(\"K\", \"k\")\n",
    "        else:\n",
    "            corrected_coda = word\n",
    "    return corrected_coda"
   ]
  },
  {
   "cell_type": "code",
   "execution_count": null,
   "id": "886e1273",
   "metadata": {},
   "outputs": [],
   "source": [
    "def diphthong_correction(word):\n",
    "    if \"yv\" in word:\n",
    "        diphthong_corrected = word.replace(\"yv\", \"jv\")\n",
    "    elif \"jv\" in word:\n",
    "        diphthong_corrected = word.replace(\"jv\", \"yv\")\n",
    "    else:\n",
    "        diphthong_corrected = word\n",
    "    return diphthong_corrected"
   ]
  },
  {
   "cell_type": "code",
   "execution_count": null,
   "id": "3a395d0e",
   "metadata": {},
   "outputs": [],
   "source": [
    "for f in output_files:\n",
    "    f_name = f.split('/')[1]\n",
    "    f = open(f,'r')\n",
    "    w = open(f_name.replace(\"output\",\"corrected_output\"),\"w\")\n",
    "    words = [line.rstrip() for line in f]\n",
    "    f.close()\n",
    "    for word in words:\n",
    "        word = word.replace(\" \", \"\")\n",
    "        word = word.replace(\".\", \"\")\n",
    "        word = word.replace(\"-\", \"\")\n",
    "        coda_corrected = coda_correction(word)\n",
    "        diphthong_corrected = diphthong_correction(coda_corrected)\n",
    "        print(f_name, word, coda_corrected, diphthong_corrected)\n",
    "        w.write(diphthong_corrected + \"\\n\")"
   ]
  }
 ],
 "metadata": {
  "kernelspec": {
   "display_name": "Python 3 (ipykernel)",
   "language": "python",
   "name": "python3"
  },
  "language_info": {
   "codemirror_mode": {
    "name": "ipython",
    "version": 3
   },
   "file_extension": ".py",
   "mimetype": "text/x-python",
   "name": "python",
   "nbconvert_exporter": "python",
   "pygments_lexer": "ipython3",
   "version": "3.8.16"
  }
 },
 "nbformat": 4,
 "nbformat_minor": 5
}
